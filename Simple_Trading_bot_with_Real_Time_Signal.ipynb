{
 "cells": [
  {
   "cell_type": "code",
   "execution_count": 29,
   "id": "8c6da3c6-75be-4aba-9ce7-1ac137a5f280",
   "metadata": {},
   "outputs": [],
   "source": [
    "# for 2 new models: Webcocket & time which look no pip install required\n",
    "import os\n",
    "import alpaca_trade_api as tradeapi\n",
    "# we import 'ast' module to format reatime streaming message from Alpaca to the way in which our bot will understand it\n",
    "import ast\n",
    "import time\n",
    "from datetime import datetime, timedelta\n",
    "import json\n",
    "import pandas as pd\n",
    "import numpy as np\n",
    "import numpy.random as rnd\n",
    "from dotenv import load_dotenv\n",
    "import requests\n",
    "from pathlib import Path\n",
    "import hvplot.pandas\n",
    "import sqlalchemy\n",
    "# Tablib stands for 'technical analysis library' used to analyse trading signal from candel charts\n",
    "# to install ta-lib, type in terminal \"conda install -c conda-forge ta-lib\" \n",
    "import talib as ta\n",
    "# Websocket will be used to connect with alpaca to extract real time stock price (candel stick chart)\n",
    "# to install websocket: pip install websocket-client\n",
    "import websocket\n",
    "# import REST to extract historical stock price later\n",
    "from alpaca_trade_api import REST, TimeFrame\n",
    "# \"Plotly\" provides online graphing, analytics, and statistics tools for individuals and collaboration,\n",
    "# in order for plotly to show graph in jupyter lab, you need to run in termimal: \"jupyter labextension install jupyterlab-plotly\"\n",
    "# to run above command, you may also need to install nodeJS 12.0 + by use install command: \"conda install nodejs -c conda-forge --repodata-fn=repodata.json\"\n",
    "import plotly.graph_objects as go\n",
    "import plotly.express as px"
   ]
  },
  {
   "cell_type": "code",
   "execution_count": 9,
   "id": "d2f3ae37-304e-4dec-901a-c2bd0d37b5db",
   "metadata": {},
   "outputs": [
    {
     "data": {
      "text/plain": [
       "str"
      ]
     },
     "execution_count": 9,
     "metadata": {},
     "output_type": "execute_result"
    }
   ],
   "source": [
    "# Load Alpaca info from ENV file\n",
    "load_dotenv('api.env')\n",
    "alpaca_api_key = os.getenv('ALPACA_API_KEY')\n",
    "alpaca_secret_key = os.getenv('ALPACA_SECRET_KEY')\n",
    "type(alpaca_secret_key)"
   ]
  },
  {
   "cell_type": "code",
   "execution_count": 33,
   "id": "59ff5410-9483-4fd2-aef8-1a4bc1a3c097",
   "metadata": {},
   "outputs": [],
   "source": [
    "# Define variables which will be obained from FIRE to be inserted by user\n",
    "stock_ticker = 'TSLA'\n"
   ]
  },
  {
   "cell_type": "code",
   "execution_count": 34,
   "id": "27586c85-604f-4832-997d-f4c765ea33fc",
   "metadata": {},
   "outputs": [],
   "source": [
    "# Define \"api\" ojbect to be used later\n",
    "api = tradeapi.REST(alpaca_api_key, alpaca_secret_key, \"https://paper-api.alpaca.markets\", \"v2\")"
   ]
  },
  {
   "cell_type": "code",
   "execution_count": 53,
   "id": "7404ae43-7a7b-4499-94b0-87cc19b6549e",
   "metadata": {},
   "outputs": [],
   "source": [
    "# Part ONE: Generating Trading signal \n",
    "## if the realtime prce is higher then certain percentage from the close price from 5 days ago, activate the trading bot\n",
    "## Step 1: extract stock close price from 5 days agao"
   ]
  },
  {
   "cell_type": "code",
   "execution_count": 35,
   "id": "3ba81d15-37b9-416f-9519-95316ca62dad",
   "metadata": {},
   "outputs": [
    {
     "name": "stdout",
     "output_type": "stream",
     "text": [
      "today is 2022-05-08\n",
      "earlier_date_to_compare is 2022-05-03\n"
     ]
    }
   ],
   "source": [
    "# use timedelta from Datetime to generate earlier date so we can extract historical data from alpaca later\n",
    "days_to_subtract = 5\n",
    "today = (datetime.today()).strftime('%Y-%m-%d')\n",
    "print(f'today is {today}')\n",
    "earlier_date_to_compare = today = (datetime.today()-timedelta(days=days_to_subtract)).strftime('%Y-%m-%d')\n",
    "print(f'earlier_date_to_compare is {earlier_date_to_compare}')\n"
   ]
  },
  {
   "cell_type": "code",
   "execution_count": 51,
   "id": "8da35c0c-1e23-47e9-a7e7-670ffcc732c4",
   "metadata": {},
   "outputs": [
    {
     "data": {
      "text/html": [
       "<div>\n",
       "<style scoped>\n",
       "    .dataframe tbody tr th:only-of-type {\n",
       "        vertical-align: middle;\n",
       "    }\n",
       "\n",
       "    .dataframe tbody tr th {\n",
       "        vertical-align: top;\n",
       "    }\n",
       "\n",
       "    .dataframe thead th {\n",
       "        text-align: right;\n",
       "    }\n",
       "</style>\n",
       "<table border=\"1\" class=\"dataframe\">\n",
       "  <thead>\n",
       "    <tr style=\"text-align: right;\">\n",
       "      <th></th>\n",
       "      <th>open</th>\n",
       "      <th>high</th>\n",
       "      <th>low</th>\n",
       "      <th>close</th>\n",
       "      <th>volume</th>\n",
       "      <th>trade_count</th>\n",
       "      <th>vwap</th>\n",
       "    </tr>\n",
       "    <tr>\n",
       "      <th>timestamp</th>\n",
       "      <th></th>\n",
       "      <th></th>\n",
       "      <th></th>\n",
       "      <th></th>\n",
       "      <th></th>\n",
       "      <th></th>\n",
       "      <th></th>\n",
       "    </tr>\n",
       "  </thead>\n",
       "  <tbody>\n",
       "    <tr>\n",
       "      <th>2022-05-03 04:00:00+00:00</th>\n",
       "      <td>902.68</td>\n",
       "      <td>924.08</td>\n",
       "      <td>888.59</td>\n",
       "      <td>909.25</td>\n",
       "      <td>21187584</td>\n",
       "      <td>605288</td>\n",
       "      <td>908.677578</td>\n",
       "    </tr>\n",
       "  </tbody>\n",
       "</table>\n",
       "</div>"
      ],
      "text/plain": [
       "                             open    high     low   close    volume  \\\n",
       "timestamp                                                             \n",
       "2022-05-03 04:00:00+00:00  902.68  924.08  888.59  909.25  21187584   \n",
       "\n",
       "                           trade_count        vwap  \n",
       "timestamp                                           \n",
       "2022-05-03 04:00:00+00:00       605288  908.677578  "
      ]
     },
     "metadata": {},
     "output_type": "display_data"
    },
    {
     "name": "stdout",
     "output_type": "stream",
     "text": [
      "The price_from_earlier_date is 909.25\n"
     ]
    }
   ],
   "source": [
    "rest_client = REST(alpaca_api_key, alpaca_secret_key)\n",
    "bars_from_earlier_date = rest_client.get_bars(stock_ticker, TimeFrame.Day, earlier_date_to_compare, earlier_date_to_compare).df\n",
    "display(bars_from_earlier_date)\n",
    "price_from_earlier_date = bars_from_earlier_date.iloc[0]['close']\n",
    "print(f'The price_from_earlier_date is {price_from_earlier_date}')\n"
   ]
  },
  {
   "cell_type": "code",
   "execution_count": 61,
   "id": "343ee65d-07ef-461b-ab52-c0f791dfd782",
   "metadata": {},
   "outputs": [
    {
     "name": "stdout",
     "output_type": "stream",
     "text": [
      "capital_commited,shares_to_trade, percentage_change_for_trading_signal,percentage_change_for_profit_loss_taking seperatly are (1000, 1.0, 2, 0.2)\n",
      "price_to_start_trading_bot is 927.4350000000001\n"
     ]
    }
   ],
   "source": [
    "# Define variables which will be obained from FIRE to be inserted by user\n",
    "capital_commited = 1000\n",
    "# Use round operation to calculate number of shares to trade\n",
    "shares_to_trade = capital_commited//price_from_earlier_date\n",
    "# Note below numbers are in percentage terms (for example 2 means 2%)\n",
    "percentage_change_for_trading_signal = 2\n",
    "percentage_change_for_profit_loss_taking = 0.2\n",
    "price_to_start_trading_bot = price_from_earlier_date * (1+percentage_change_for_trading_signal/100)\n",
    "print(f'capital_commited,shares_to_trade, percentage_change_for_trading_signal,percentage_change_for_profit_loss_taking seperatly are {capital_commited,shares_to_trade,percentage_change_for_trading_signal,percentage_change_for_profit_loss_taking}')\n",
    "print(f'price_to_start_trading_bot is {price_to_start_trading_bot}')"
   ]
  },
  {
   "cell_type": "code",
   "execution_count": 55,
   "id": "6e7637ba-51f1-4f75-98bb-9250ef811819",
   "metadata": {},
   "outputs": [
    {
     "data": {
      "text/plain": [
       "1"
      ]
     },
     "execution_count": 55,
     "metadata": {},
     "output_type": "execute_result"
    }
   ],
   "source": []
  },
  {
   "cell_type": "code",
   "execution_count": null,
   "id": "27509746-e550-4bc8-a195-50fed4728f32",
   "metadata": {},
   "outputs": [],
   "source": [
    "# Part One\n",
    "## Step 2: extact realtime stock price from Alpaca streaming data"
   ]
  },
  {
   "cell_type": "code",
   "execution_count": 52,
   "id": "c3dfc6df-8d07-411b-8cad-777641bcb7a0",
   "metadata": {},
   "outputs": [],
   "source": [
    "# Below iex link should work with free account per alpaca \n",
    "socket = \"wss://stream.data.alpaca.markets/v2/iex\"\n",
    "#socket = \"wss://stream.data.alpaca.markets/v2/sip\""
   ]
  },
  {
   "cell_type": "code",
   "execution_count": null,
   "id": "f67b0749-bd2d-4bf8-bc11-a522540579b6",
   "metadata": {},
   "outputs": [],
   "source": [
    "# on_open, on_message, on_close below are defined for websockect steaming data\n",
    "# within on_message, conditional statement is made check whether trading signal will be triggered\n",
    "def on_open(ws):\n",
    "    print(\"opened\")\n",
    "    auth_data = {\"action\":\"auth\",\"key\":alpaca_api_key,\"secret\":alpaca_secret_key}\n",
    "    ws.send(json.dumps(auth_data))\n",
    "    listen_message = {\"action\":\"subscribe\",\"bars\":[stock_ticker]}\n",
    "    ws.send(json.dumps(listen_message))\n",
    "\n",
    "\n",
    "def on_message(ws, message):\n",
    "    print(\"received a message\")\n",
    "    print(message)\n",
    "    formatted_message = ast.literal_eval(message)\n",
    "    last_time = formatted_message[0].get(\"t\")\n",
    "    last_close = formatted_message[0].get(\"c\")\n",
    "    print(f'infor from preivous minitue: time is {last_time}; open is {last_open};high is {last_high};low is {last_low};close is {last_close};volumne is {last_volumne}')\n",
    "# Once the realtime price exceeds the signal price, start the trading bot\n",
    "    if(last_close>price_to_start_trading_bot):\n",
    "        trading_bot()\n",
    "    else:\n",
    "        \n",
    "def on_close(ws):\n",
    "    print(\"closed connection\")\n",
    "    "
   ]
  },
  {
   "cell_type": "code",
   "execution_count": null,
   "id": "54da6c08-a7fa-4db0-a4cc-ca4c2d1e3ee9",
   "metadata": {},
   "outputs": [],
   "source": [
    "ws = websocket.WebSocketApp(socket, on_open=on_open, on_message=on_message, on_close=on_close)\n",
    "ws.run_forever()"
   ]
  },
  {
   "cell_type": "code",
   "execution_count": null,
   "id": "472bc9a4-c9b2-4229-985e-acb00e690f83",
   "metadata": {},
   "outputs": [],
   "source": []
  },
  {
   "cell_type": "code",
   "execution_count": 6,
   "id": "98423e0b-573b-4377-abb3-de97049aa6a5",
   "metadata": {},
   "outputs": [],
   "source": [
    "# below are code of simple tradinb bot with simple buy market and sell traliing order \n",
    "# for x in range(200):\n",
    "def trading_bot()\n",
    "    while True:\n",
    "        try:\n",
    "            api.get_position(stock_ticker)\n",
    "            time.sleep(11)\n",
    "        except:\n",
    "            api.submit_order(symbol=stock_ticker,qty=shares_to_trade,side='buy',type='market',time_in_force='gtc')\n",
    "            time.sleep(10)\n",
    "            api.submit_order(symbol=stock_ticker,qty=shares_to_trade,side='sell',type='trailing_stop',trail_percent=percentage_change_for_profit_loss_taking,time_in_force='gtc')\n"
   ]
  },
  {
   "cell_type": "code",
   "execution_count": null,
   "id": "c7b6c44a-3682-4bc5-ba80-a72b8cbd20ac",
   "metadata": {},
   "outputs": [],
   "source": []
  },
  {
   "cell_type": "code",
   "execution_count": null,
   "id": "21e9ab0c-35d6-4ef0-bd30-2c469ec159de",
   "metadata": {},
   "outputs": [],
   "source": []
  }
 ],
 "metadata": {
  "kernelspec": {
   "display_name": "dev",
   "language": "python",
   "name": "dev"
  },
  "language_info": {
   "codemirror_mode": {
    "name": "ipython",
    "version": 3
   },
   "file_extension": ".py",
   "mimetype": "text/x-python",
   "name": "python",
   "nbconvert_exporter": "python",
   "pygments_lexer": "ipython3",
   "version": "3.7.11"
  }
 },
 "nbformat": 4,
 "nbformat_minor": 5
}
