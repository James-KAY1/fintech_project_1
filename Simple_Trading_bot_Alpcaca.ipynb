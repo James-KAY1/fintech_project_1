{
 "cells": [
  {
   "cell_type": "code",
   "execution_count": 12,
   "id": "8c6da3c6-75be-4aba-9ce7-1ac137a5f280",
   "metadata": {},
   "outputs": [],
   "source": [
    "import os\n",
    "import alpaca_trade_api as tradeapi\n",
    "import time\n",
    "import pandas as pd\n",
    "import numpy as np\n",
    "import numpy.random as rnd\n",
    "from dotenv import load_dotenv\n",
    "import requests\n",
    "from pathlib import Path\n",
    "import hvplot.pandas\n",
    "import sqlalchemy\n"
   ]
  },
  {
   "cell_type": "code",
   "execution_count": 13,
   "id": "d2f3ae37-304e-4dec-901a-c2bd0d37b5db",
   "metadata": {},
   "outputs": [
    {
     "data": {
      "text/plain": [
       "'agQCs5eDpzsFfkVTi7N5qek6MHI9Qt3pe5Jf0xbt'"
      ]
     },
     "execution_count": 13,
     "metadata": {},
     "output_type": "execute_result"
    }
   ],
   "source": [
    "load_dotenv('api.env')\n",
    "alpaca_api_key = os.getenv('ALPACA_API_KEY')\n",
    "alpaca_secret_key = os.getenv('ALPACA_SECRET_KEY')\n",
    "alpaca_secret_key"
   ]
  },
  {
   "cell_type": "code",
   "execution_count": 14,
   "id": "27586c85-604f-4832-997d-f4c765ea33fc",
   "metadata": {},
   "outputs": [],
   "source": [
    "api = tradeapi.REST(alpaca_api_key, alpaca_secret_key, \"https://paper-api.alpaca.markets\", \"v2\")"
   ]
  },
  {
   "cell_type": "code",
   "execution_count": 21,
   "id": "7ad61d89-87f5-4c5c-a6dc-3335f1d9c238",
   "metadata": {},
   "outputs": [
    {
     "ename": "KeyboardInterrupt",
     "evalue": "",
     "output_type": "error",
     "traceback": [
      "\u001b[0;31m---------------------------------------------------------------------------\u001b[0m",
      "\u001b[0;31mKeyboardInterrupt\u001b[0m                         Traceback (most recent call last)",
      "\u001b[0;32m/var/folders/hh/4tbtrky94cv9lf2n8h1wxh1c0000gn/T/ipykernel_60326/566049690.py\u001b[0m in \u001b[0;36m<module>\u001b[0;34m\u001b[0m\n\u001b[1;32m      4\u001b[0m         \u001b[0mapi\u001b[0m\u001b[0;34m.\u001b[0m\u001b[0mget_position\u001b[0m\u001b[0;34m(\u001b[0m\u001b[0;34m'TSLA'\u001b[0m\u001b[0;34m)\u001b[0m\u001b[0;34m\u001b[0m\u001b[0;34m\u001b[0m\u001b[0m\n\u001b[0;32m----> 5\u001b[0;31m         \u001b[0mtime\u001b[0m\u001b[0;34m.\u001b[0m\u001b[0msleep\u001b[0m\u001b[0;34m(\u001b[0m\u001b[0;36m11\u001b[0m\u001b[0;34m)\u001b[0m\u001b[0;34m\u001b[0m\u001b[0;34m\u001b[0m\u001b[0m\n\u001b[0m\u001b[1;32m      6\u001b[0m     \u001b[0;32mexcept\u001b[0m\u001b[0;34m:\u001b[0m\u001b[0;34m\u001b[0m\u001b[0;34m\u001b[0m\u001b[0m\n",
      "\u001b[0;31mKeyboardInterrupt\u001b[0m: ",
      "\nDuring handling of the above exception, another exception occurred:\n",
      "\u001b[0;31mKeyboardInterrupt\u001b[0m                         Traceback (most recent call last)",
      "\u001b[0;32m/var/folders/hh/4tbtrky94cv9lf2n8h1wxh1c0000gn/T/ipykernel_60326/566049690.py\u001b[0m in \u001b[0;36m<module>\u001b[0;34m\u001b[0m\n\u001b[1;32m      6\u001b[0m     \u001b[0;32mexcept\u001b[0m\u001b[0;34m:\u001b[0m\u001b[0;34m\u001b[0m\u001b[0;34m\u001b[0m\u001b[0m\n\u001b[1;32m      7\u001b[0m         \u001b[0mapi\u001b[0m\u001b[0;34m.\u001b[0m\u001b[0msubmit_order\u001b[0m\u001b[0;34m(\u001b[0m\u001b[0msymbol\u001b[0m\u001b[0;34m=\u001b[0m\u001b[0;34m'TSLA'\u001b[0m\u001b[0;34m,\u001b[0m\u001b[0mqty\u001b[0m\u001b[0;34m=\u001b[0m\u001b[0;36m1\u001b[0m\u001b[0;34m,\u001b[0m\u001b[0mside\u001b[0m\u001b[0;34m=\u001b[0m\u001b[0;34m'buy'\u001b[0m\u001b[0;34m,\u001b[0m\u001b[0mtype\u001b[0m\u001b[0;34m=\u001b[0m\u001b[0;34m'market'\u001b[0m\u001b[0;34m,\u001b[0m\u001b[0mtime_in_force\u001b[0m\u001b[0;34m=\u001b[0m\u001b[0;34m'gtc'\u001b[0m\u001b[0;34m)\u001b[0m\u001b[0;34m\u001b[0m\u001b[0;34m\u001b[0m\u001b[0m\n\u001b[0;32m----> 8\u001b[0;31m         \u001b[0mtime\u001b[0m\u001b[0;34m.\u001b[0m\u001b[0msleep\u001b[0m\u001b[0;34m(\u001b[0m\u001b[0;36m10\u001b[0m\u001b[0;34m)\u001b[0m\u001b[0;34m\u001b[0m\u001b[0;34m\u001b[0m\u001b[0m\n\u001b[0m\u001b[1;32m      9\u001b[0m         \u001b[0mapi\u001b[0m\u001b[0;34m.\u001b[0m\u001b[0msubmit_order\u001b[0m\u001b[0;34m(\u001b[0m\u001b[0msymbol\u001b[0m\u001b[0;34m=\u001b[0m\u001b[0;34m'TSLA'\u001b[0m\u001b[0;34m,\u001b[0m\u001b[0mqty\u001b[0m\u001b[0;34m=\u001b[0m\u001b[0;36m1\u001b[0m\u001b[0;34m,\u001b[0m\u001b[0mside\u001b[0m\u001b[0;34m=\u001b[0m\u001b[0;34m'sell'\u001b[0m\u001b[0;34m,\u001b[0m\u001b[0mtype\u001b[0m\u001b[0;34m=\u001b[0m\u001b[0;34m'trailing_stop'\u001b[0m\u001b[0;34m,\u001b[0m\u001b[0mtrail_percent\u001b[0m\u001b[0;34m=\u001b[0m\u001b[0;36m0.2\u001b[0m\u001b[0;34m,\u001b[0m\u001b[0mtime_in_force\u001b[0m\u001b[0;34m=\u001b[0m\u001b[0;34m'gtc'\u001b[0m\u001b[0;34m)\u001b[0m\u001b[0;34m\u001b[0m\u001b[0;34m\u001b[0m\u001b[0m\n",
      "\u001b[0;31mKeyboardInterrupt\u001b[0m: "
     ]
    }
   ],
   "source": [
    "#for x in range(200):\n",
    "while True:\n",
    "    try:\n",
    "        api.get_position('TSLA')\n",
    "        time.sleep(11)\n",
    "    except:\n",
    "        api.submit_order(symbol='TSLA',qty=1,side='buy',type='market',time_in_force='gtc')\n",
    "        time.sleep(10)\n",
    "        api.submit_order(symbol='TSLA',qty=1,side='sell',type='trailing_stop',trail_percent=0.2,time_in_force='gtc')\n"
   ]
  },
  {
   "cell_type": "code",
   "execution_count": null,
   "id": "c7b6c44a-3682-4bc5-ba80-a72b8cbd20ac",
   "metadata": {},
   "outputs": [],
   "source": []
  },
  {
   "cell_type": "code",
   "execution_count": null,
   "id": "21e9ab0c-35d6-4ef0-bd30-2c469ec159de",
   "metadata": {},
   "outputs": [],
   "source": []
  }
 ],
 "metadata": {
  "kernelspec": {
   "display_name": "dev",
   "language": "python",
   "name": "dev"
  },
  "language_info": {
   "codemirror_mode": {
    "name": "ipython",
    "version": 3
   },
   "file_extension": ".py",
   "mimetype": "text/x-python",
   "name": "python",
   "nbconvert_exporter": "python",
   "pygments_lexer": "ipython3",
   "version": "3.7.11"
  }
 },
 "nbformat": 4,
 "nbformat_minor": 5
}
